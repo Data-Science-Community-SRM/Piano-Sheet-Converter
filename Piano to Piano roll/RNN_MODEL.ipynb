{
 "cells": [
  {
   "cell_type": "code",
   "execution_count": 1,
   "id": "a0305f0c",
   "metadata": {
    "executionInfo": {
     "elapsed": 1692,
     "status": "ok",
     "timestamp": 1626522997167,
     "user": {
      "displayName": "Himanshu Jindal",
      "photoUrl": "https://lh3.googleusercontent.com/a-/AOh14GhhBCxUGUuKYYAeqNbtxPh0G6KB6fRDrcYD8hC6_w=s64",
      "userId": "03592805793361767878"
     },
     "user_tz": -330
    },
    "id": "a0305f0c"
   },
   "outputs": [],
   "source": [
    "#IMPORTING DIFFERENT LIBRARIES NEEDED\n",
    "import numpy as np\n",
    "from keras.preprocessing import sequence\n",
    "from keras.utils import np_utils\n",
    "from keras.models import Sequential,load_model\n",
    "from keras.layers import Dense,LSTM,Dropout, Activation, Masking\n",
    "from keras.regularizers import l2\n",
    "from keras import callbacks\n",
    "from keras.callbacks import History, ModelCheckpoint, EarlyStopping"
   ]
  },
  {
   "cell_type": "code",
   "execution_count": 19,
   "id": "9puM9UuQTmYY",
   "metadata": {
    "colab": {
     "base_uri": "https://localhost:8080/"
    },
    "executionInfo": {
     "elapsed": 746,
     "status": "ok",
     "timestamp": 1626523059447,
     "user": {
      "displayName": "Himanshu Jindal",
      "photoUrl": "https://lh3.googleusercontent.com/a-/AOh14GhhBCxUGUuKYYAeqNbtxPh0G6KB6fRDrcYD8hC6_w=s64",
      "userId": "03592805793361767878"
     },
     "user_tz": -330
    },
    "id": "9puM9UuQTmYY",
    "outputId": "b366c413-ba23-4550-a95d-20d2cd59ce05"
   },
   "outputs": [
    {
     "name": "stdout",
     "output_type": "stream",
     "text": [
      "Drive already mounted at /content/gdrive; to attempt to forcibly remount, call drive.mount(\"/content/gdrive\", force_remount=True).\n"
     ]
    }
   ],
   "source": [
    "from google.colab import drive\n",
    "drive.mount(\"/content/gdrive\")"
   ]
  },
  {
   "cell_type": "code",
   "execution_count": 5,
   "id": "74e79a55",
   "metadata": {
    "executionInfo": {
     "elapsed": 54979,
     "status": "ok",
     "timestamp": 1626523122248,
     "user": {
      "displayName": "Himanshu Jindal",
      "photoUrl": "https://lh3.googleusercontent.com/a-/AOh14GhhBCxUGUuKYYAeqNbtxPh0G6KB6fRDrcYD8hC6_w=s64",
      "userId": "03592805793361767878"
     },
     "user_tz": -330
    },
    "id": "74e79a55"
   },
   "outputs": [],
   "source": [
    "#These are Padded inputs i.e there are three layers of zeros between every spectrogram.\n",
    "#Padding can be avoided but there are no cons.\n",
    "#These are already is the required shape (x*100*252 for CQT and x*100*88 for labels)\n",
    "# xtrain=np.load(\"/content/gdrive/My Drive/totalCQT3.npy\")\n",
    "# ytrain=np.load(\"/content/gdrive/My Drive/totallabel3.npy\")\n",
    "# xtest=np.load(\"/content/gdrive/My Drive/totalCQT4.npy\")\n",
    "# ytest=np.load(\"/content/gdrive/My Drive/totallabel4.npy\")\n",
    "\n",
    "xtrain=np.load(\"/mnt/d/MAPS/train1/totalCQT3.npy\")\n",
    "ytrain=np.load(\"/mnt/d/MAPS/train1/totallabel3.npy\")\n",
    "xtest=np.load(\"/mnt/d/MAPS/test1/totalCQT4.npy\")\n",
    "ytest=np.load(\"/mnt/d/MAPS/test1/totallabel4.npy\")\n",
    "\n"
   ]
  },
  {
   "cell_type": "code",
   "execution_count": null,
   "id": "8342dbee",
   "metadata": {
    "id": "8342dbee"
   },
   "outputs": [],
   "source": [
    "#We can also do it in another method using Many inputs and one Output Technique.\n",
    "#For this we have to import data in raw form in shapes (x*252 and x*88).\n",
    "#\n",
    "######RUN THIS ONLY IF USING SECOND METHOD#######\n",
    "#\n",
    "j=0;\n",
    "y2train=[]\n",
    "for i in range(50,1540851,100):\n",
    "    y2train.append(ytrain[i,:])\n",
    "    j=j+1\n",
    "y2train=np.array(y2train)\n",
    "\n",
    "j=0;\n",
    "y2test=[]\n",
    "for i in range(50,507251,100):\n",
    "    y2test.append(ytest[i,:])\n",
    "    j=j+1\n",
    "y2test=np.array(y2test)\n",
    "\n",
    "# max_shape = (xtrain.shape[0]//100)*100\n",
    "# xtrain= np.reshape(xtrain[0:max_shape,:],(xtrain.shape[0]//100 ,100,xtrain.shape[1]))\n",
    "# max_shape = (ytrain.shape[0]//100)*100\n",
    "# ytrain= ytrain[0:max_shape,:]\n",
    "# max_shape = (xtest.shape[0]//100)*100\n",
    "# xtest= np.reshape(xtest[0:max_shape,:],(xtest.shape[0]//100,100,xtest.shape[1]))\n",
    "# max_shape = (ytest.shape[0]//100)*100\n",
    "# ytest= ytest[0:max_shape,:]\n",
    "# ytrain=np.reshape(ytrain,(ytrain.shape[0]//100,100,88))\n",
    "# ytest=np.reshape(ytest,(ytest.shape[0]//100,100,88))"
   ]
  },
  {
   "cell_type": "code",
   "execution_count": null,
   "id": "f00ff427",
   "metadata": {
    "id": "f00ff427"
   },
   "outputs": [],
   "source": [
    "#CONSTRUCTING A SEQUENTIAL MODEL WITH 2 HIDDEN LAYERS. ALL ARE LSTM LAYERS WITH DROPOUTS. \n",
    "#IF USING SECOND METHOD THEN MODIFY THE RETURN SEQUENCES OF LAST LSTM LAYER.\n",
    "rnn=Sequential()\n",
    "rnn.add(LSTM(units=256,return_sequences=True,input_shape=(xtrain.shape[1],252),activation='tanh'))\n",
    "rnn.add(Dropout(0.25))\n",
    "rnn.add(LSTM(units=256,return_sequences=True,activation='tanh'))\n",
    "rnn.add(Dropout(0.25))\n",
    "rnn.add(LSTM(units=256,return_sequences=True,activation='tanh'))\n",
    "rnn.add(Dropout(0.25))\n",
    "rnn.add(LSTM(units=256,return_sequences=True,activation='tanh'))\n",
    "rnn.add(Dropout(0.25))\n",
    "rnn.add(Dense(units=88,activation='sigmoid'))"
   ]
  },
  {
   "cell_type": "code",
   "execution_count": null,
   "id": "572e525b",
   "metadata": {
    "id": "572e525b"
   },
   "outputs": [],
   "source": [
    "#Compiling the model with binary crossentropy since we want ouputs in binary form.\n",
    "rnn.compile(optimizer='adam',loss='binary_crossentropy')"
   ]
  },
  {
   "cell_type": "code",
   "execution_count": null,
   "id": "45faf3f4",
   "metadata": {
    "id": "45faf3f4"
   },
   "outputs": [],
   "source": [
    "#RUN THIS IF YOU WANT TO SAVE YOUR WEIGHTS TO A LOCATION AND THEN MODIFY THE FIT ACCORDINGLY.\n",
    "checkpointer = ModelCheckpoint(filepath=\"weights (2).hdf5\", verbose=1, save_best_only=False)"
   ]
  },
  {
   "cell_type": "code",
   "execution_count": null,
   "id": "954f5517",
   "metadata": {
    "colab": {
     "base_uri": "https://localhost:8080/"
    },
    "executionInfo": {
     "elapsed": 12,
     "status": "ok",
     "timestamp": 1626424081617,
     "user": {
      "displayName": "Himanshu Jindal",
      "photoUrl": "https://lh3.googleusercontent.com/a-/AOh14GhhBCxUGUuKYYAeqNbtxPh0G6KB6fRDrcYD8hC6_w=s64",
      "userId": "03592805793361767878"
     },
     "user_tz": -330
    },
    "id": "954f5517",
    "outputId": "ddeee2ba-abb3-48e2-ec52-5978b1af4263"
   },
   "outputs": [
    {
     "name": "stdout",
     "output_type": "stream",
     "text": [
      "Model: \"sequential\"\n",
      "_________________________________________________________________\n",
      "Layer (type)                 Output Shape              Param #   \n",
      "=================================================================\n",
      "lstm (LSTM)                  (None, 100, 256)          521216    \n",
      "_________________________________________________________________\n",
      "dropout (Dropout)            (None, 100, 256)          0         \n",
      "_________________________________________________________________\n",
      "lstm_1 (LSTM)                (None, 100, 256)          525312    \n",
      "_________________________________________________________________\n",
      "dropout_1 (Dropout)          (None, 100, 256)          0         \n",
      "_________________________________________________________________\n",
      "lstm_2 (LSTM)                (None, 100, 256)          525312    \n",
      "_________________________________________________________________\n",
      "dropout_2 (Dropout)          (None, 100, 256)          0         \n",
      "_________________________________________________________________\n",
      "lstm_3 (LSTM)                (None, 100, 256)          525312    \n",
      "_________________________________________________________________\n",
      "dropout_3 (Dropout)          (None, 100, 256)          0         \n",
      "_________________________________________________________________\n",
      "dense (Dense)                (None, 100, 88)           22616     \n",
      "=================================================================\n",
      "Total params: 2,119,768\n",
      "Trainable params: 2,119,768\n",
      "Non-trainable params: 0\n",
      "_________________________________________________________________\n"
     ]
    }
   ],
   "source": [
    "#To Get the Summary of the model\n",
    "rnn.summary()"
   ]
  },
  {
   "cell_type": "code",
   "execution_count": null,
   "id": "32b5aa41",
   "metadata": {
    "id": "32b5aa41"
   },
   "outputs": [],
   "source": [
    "#TO AVOID OVERFITTING USE EarlyStopping\n",
    "early = EarlyStopping(monitor='val_loss', min_delta=0, patience=20, verbose=1, mode='auto')"
   ]
  },
  {
   "cell_type": "code",
   "execution_count": null,
   "id": "b340edc4",
   "metadata": {
    "colab": {
     "base_uri": "https://localhost:8080/"
    },
    "executionInfo": {
     "elapsed": 1703922,
     "status": "ok",
     "timestamp": 1626425794451,
     "user": {
      "displayName": "Himanshu Jindal",
      "photoUrl": "https://lh3.googleusercontent.com/a-/AOh14GhhBCxUGUuKYYAeqNbtxPh0G6KB6fRDrcYD8hC6_w=s64",
      "userId": "03592805793361767878"
     },
     "user_tz": -330
    },
    "id": "b340edc4",
    "outputId": "6aa7d696-ec8a-477b-db1a-3ce2af35bd1d"
   },
   "outputs": [
    {
     "name": "stdout",
     "output_type": "stream",
     "text": [
      "Epoch 1/50\n",
      "1585/1585 [==============================] - 65s 26ms/step - loss: 0.1879 - val_loss: 0.1690\n",
      "Epoch 2/50\n",
      "1585/1585 [==============================] - 41s 26ms/step - loss: 0.1646 - val_loss: 0.1422\n",
      "Epoch 3/50\n",
      "1585/1585 [==============================] - 40s 25ms/step - loss: 0.1330 - val_loss: 0.1180\n",
      "Epoch 4/50\n",
      "1585/1585 [==============================] - 41s 26ms/step - loss: 0.1124 - val_loss: 0.1073\n",
      "Epoch 5/50\n",
      "1585/1585 [==============================] - 41s 26ms/step - loss: 0.0997 - val_loss: 0.1024\n",
      "Epoch 6/50\n",
      "1585/1585 [==============================] - 41s 26ms/step - loss: 0.0916 - val_loss: 0.1039\n",
      "Epoch 7/50\n",
      "1585/1585 [==============================] - 40s 25ms/step - loss: 0.0849 - val_loss: 0.0998\n",
      "Epoch 8/50\n",
      "1585/1585 [==============================] - 39s 25ms/step - loss: 0.0810 - val_loss: 0.0992\n",
      "Epoch 9/50\n",
      "1585/1585 [==============================] - 41s 26ms/step - loss: 0.0765 - val_loss: 0.0963\n",
      "Epoch 10/50\n",
      "1585/1585 [==============================] - 39s 25ms/step - loss: 0.0717 - val_loss: 0.0954\n",
      "Epoch 11/50\n",
      "1585/1585 [==============================] - 41s 26ms/step - loss: 0.0682 - val_loss: 0.0922\n",
      "Epoch 12/50\n",
      "1585/1585 [==============================] - 40s 25ms/step - loss: 0.0648 - val_loss: 0.0924\n",
      "Epoch 13/50\n",
      "1585/1585 [==============================] - 41s 26ms/step - loss: 0.0617 - val_loss: 0.0904\n",
      "Epoch 14/50\n",
      "1585/1585 [==============================] - 39s 25ms/step - loss: 0.0587 - val_loss: 0.0912\n",
      "Epoch 15/50\n",
      "1585/1585 [==============================] - 41s 26ms/step - loss: 0.0558 - val_loss: 0.0898\n",
      "Epoch 16/50\n",
      "1585/1585 [==============================] - 40s 25ms/step - loss: 0.0542 - val_loss: 0.0905\n",
      "Epoch 17/50\n",
      "1585/1585 [==============================] - 40s 25ms/step - loss: 0.0516 - val_loss: 0.0871\n",
      "Epoch 18/50\n",
      "1585/1585 [==============================] - 41s 26ms/step - loss: 0.0496 - val_loss: 0.0908\n",
      "Epoch 19/50\n",
      "1585/1585 [==============================] - 41s 26ms/step - loss: 0.0482 - val_loss: 0.0871\n",
      "Epoch 20/50\n",
      "1585/1585 [==============================] - 40s 25ms/step - loss: 0.0460 - val_loss: 0.0900\n",
      "Epoch 21/50\n",
      "1585/1585 [==============================] - 40s 25ms/step - loss: 0.0450 - val_loss: 0.0897\n",
      "Epoch 22/50\n",
      "1585/1585 [==============================] - 40s 25ms/step - loss: 0.0439 - val_loss: 0.0860\n",
      "Epoch 23/50\n",
      "1585/1585 [==============================] - 39s 24ms/step - loss: 0.0430 - val_loss: 0.0877\n",
      "Epoch 24/50\n",
      "1585/1585 [==============================] - 40s 25ms/step - loss: 0.0415 - val_loss: 0.0905\n",
      "Epoch 25/50\n",
      "1585/1585 [==============================] - 39s 25ms/step - loss: 0.0406 - val_loss: 0.0896\n",
      "Epoch 26/50\n",
      "1585/1585 [==============================] - 40s 25ms/step - loss: 0.0395 - val_loss: 0.0904\n",
      "Epoch 27/50\n",
      "1585/1585 [==============================] - 40s 25ms/step - loss: 0.0382 - val_loss: 0.0907\n",
      "Epoch 28/50\n",
      "1585/1585 [==============================] - 40s 25ms/step - loss: 0.0375 - val_loss: 0.0908\n",
      "Epoch 29/50\n",
      "1585/1585 [==============================] - 38s 24ms/step - loss: 0.0371 - val_loss: 0.0932\n",
      "Epoch 30/50\n",
      "1585/1585 [==============================] - 40s 25ms/step - loss: 0.0362 - val_loss: 0.0900\n",
      "Epoch 31/50\n",
      "1585/1585 [==============================] - 40s 25ms/step - loss: 0.0351 - val_loss: 0.0935\n",
      "Epoch 32/50\n",
      "1585/1585 [==============================] - 39s 25ms/step - loss: 0.0345 - val_loss: 0.0909\n",
      "Epoch 33/50\n",
      "1585/1585 [==============================] - 41s 26ms/step - loss: 0.0340 - val_loss: 0.0925\n",
      "Epoch 34/50\n",
      "1585/1585 [==============================] - 39s 24ms/step - loss: 0.0334 - val_loss: 0.0913\n",
      "Epoch 35/50\n",
      "1585/1585 [==============================] - 41s 26ms/step - loss: 0.0340 - val_loss: 0.0905\n",
      "Epoch 36/50\n",
      "1585/1585 [==============================] - 40s 25ms/step - loss: 0.0323 - val_loss: 0.0924\n",
      "Epoch 37/50\n",
      "1585/1585 [==============================] - 40s 25ms/step - loss: 0.0319 - val_loss: 0.0946\n",
      "Epoch 38/50\n",
      "1585/1585 [==============================] - 38s 24ms/step - loss: 0.0312 - val_loss: 0.0906\n",
      "Epoch 39/50\n",
      "1585/1585 [==============================] - 40s 25ms/step - loss: 0.0310 - val_loss: 0.0938\n",
      "Epoch 40/50\n",
      "1585/1585 [==============================] - 39s 25ms/step - loss: 0.0308 - val_loss: 0.0928\n",
      "Epoch 41/50\n",
      "1585/1585 [==============================] - 40s 25ms/step - loss: 0.0305 - val_loss: 0.0940\n",
      "Epoch 42/50\n",
      "1585/1585 [==============================] - 40s 25ms/step - loss: 0.0298 - val_loss: 0.0919\n",
      "Epoch 00042: early stopping\n"
     ]
    },
    {
     "data": {
      "text/plain": [
       "<keras.callbacks.History at 0x7f25c02b6090>"
      ]
     },
     "execution_count": 9,
     "metadata": {
      "tags": []
     },
     "output_type": "execute_result"
    }
   ],
   "source": [
    "#FIT THE MODEL. Modify Batch Size According to the Processor used or According to your Aim.\n",
    "rnn.fit(xtrain,ytrain,epochs=50,verbose=1,validation_data=(xtest,ytest),callbacks=[early],batch_size=10)"
   ]
  },
  {
   "cell_type": "code",
   "execution_count": 6,
   "id": "735ef3f0",
   "metadata": {
    "executionInfo": {
     "elapsed": 399,
     "status": "ok",
     "timestamp": 1626523134632,
     "user": {
      "displayName": "Himanshu Jindal",
      "photoUrl": "https://lh3.googleusercontent.com/a-/AOh14GhhBCxUGUuKYYAeqNbtxPh0G6KB6fRDrcYD8hC6_w=s64",
      "userId": "03592805793361767878"
     },
     "user_tz": -330
    },
    "id": "735ef3f0"
   },
   "outputs": [],
   "source": [
    "#Load Test Data.\n",
    "#Since I have used my validation and Test data as Same for Training, I have Just assigned another variable.\n",
    "xtest1=xtest\n",
    "ytest1=ytest"
   ]
  },
  {
   "cell_type": "code",
   "execution_count": 7,
   "id": "740e6657",
   "metadata": {
    "colab": {
     "base_uri": "https://localhost:8080/"
    },
    "executionInfo": {
     "elapsed": 83768,
     "status": "ok",
     "timestamp": 1626523242196,
     "user": {
      "displayName": "Himanshu Jindal",
      "photoUrl": "https://lh3.googleusercontent.com/a-/AOh14GhhBCxUGUuKYYAeqNbtxPh0G6KB6fRDrcYD8hC6_w=s64",
      "userId": "03592805793361767878"
     },
     "user_tz": -330
    },
    "id": "740e6657",
    "outputId": "b74aff92-b492-46ce-8d26-ca65b06ee8a7"
   },
   "outputs": [
    {
     "name": "stdout",
     "output_type": "stream",
     "text": [
      "5034/5034 [==============================] - 196s 37ms/step\n"
     ]
    }
   ],
   "source": [
    "#Here TP Stands for True Positive, FP stand for False Positive , FN stands for False Negative.\n",
    "#We Do not consider TN since in music most of the data is TN and hence it is not logical to include TN.\n",
    "TP = 0\n",
    "FP = 0\n",
    "FN = 0\n",
    "rnn_predictions = rnn.predict(xtest1, batch_size=1, verbose = 1) \n",
    "#Now reshape Predictions back to 2D form.\n",
    "rnn_predictions = np.reshape(rnn_predictions,(ytest1.shape[0]*ytest1.shape[1],ytest1.shape[2]))\n",
    "#Reshape Labels Back to 2D form.\n",
    "ytest1 = np.reshape(ytest1,(ytest1.shape[0]*ytest1.shape[1],ytest1.shape[2]))\n",
    "#Round the values since we only want Binary Ouput.\n",
    "rnn_predictions = np.array(rnn_predictions).round()\n",
    "#Convert all the values greater than 1 to 1.\n",
    "rnn_predictions[rnn_predictions > 1] = 1"
   ]
  },
  {
   "cell_type": "code",
   "execution_count": 8,
   "id": "00765b27",
   "metadata": {
    "executionInfo": {
     "elapsed": 422,
     "status": "ok",
     "timestamp": 1626527171795,
     "user": {
      "displayName": "Himanshu Jindal",
      "photoUrl": "https://lh3.googleusercontent.com/a-/AOh14GhhBCxUGUuKYYAeqNbtxPh0G6KB6fRDrcYD8hC6_w=s64",
      "userId": "03592805793361767878"
     },
     "user_tz": -330
    },
    "id": "00765b27"
   },
   "outputs": [],
   "source": [
    "def outputmetrics(rnn_predictions,ytest1):\n",
    "    TP = np.count_nonzero(np.logical_and( rnn_predictions == 1, ytest1 == 1 ))\n",
    "    FN = np.count_nonzero(np.logical_and( rnn_predictions == 0, ytest1 == 1 ))\n",
    "    FP = np.count_nonzero(np.logical_and( rnn_predictions == 1, ytest1 == 0 ))\n",
    "    if (TP) > 0:\n",
    "        Sensitivity = TP/float(TP + FN)\n",
    "        #Also called Recall\n",
    "        Precision = TP/float(TP + FP)\n",
    "        Accuracy = 100*TP/float(TP + FP + FN)\n",
    "        F=100*2*Precision*Sensitivity/(Precision + Sensitivity)\n",
    "    else: \n",
    "        Accuracy=0\n",
    "        F=0\n",
    "        Sensitivity=0\n",
    "        Precision=0\n",
    "    \n",
    "    print('\\n F-measure pre-processed: ')\n",
    "    print(F)\n",
    "    print('\\n Accuracy pre-processed: ')\n",
    "    print(Accuracy)\n",
    "    print('\\n Sensitivity pre-processed: ')\n",
    "    print(Sensitivity*100)\n",
    "    print('\\n Precision pre-processed: ')\n",
    "    print(Precision*100)\n",
    "    return TP,FN,FP\n",
    "\n",
    "    "
   ]
  },
  {
   "cell_type": "code",
   "execution_count": 9,
   "id": "d016aec7",
   "metadata": {
    "colab": {
     "base_uri": "https://localhost:8080/"
    },
    "executionInfo": {
     "elapsed": 468,
     "status": "ok",
     "timestamp": 1626524387100,
     "user": {
      "displayName": "Himanshu Jindal",
      "photoUrl": "https://lh3.googleusercontent.com/a-/AOh14GhhBCxUGUuKYYAeqNbtxPh0G6KB6fRDrcYD8hC6_w=s64",
      "userId": "03592805793361767878"
     },
     "user_tz": -330
    },
    "id": "d016aec7",
    "outputId": "f318d415-4333-4407-a527-50a1feebcd05"
   },
   "outputs": [
    {
     "name": "stdout",
     "output_type": "stream",
     "text": [
      "\n",
      " F-measure pre-processed: \n",
      "67.64146509372223\n",
      "\n",
      " Accuracy pre-processed: \n",
      "51.10472486086273\n",
      "\n",
      " Sensitivity pre-processed: \n",
      "60.319026760620275\n",
      "\n",
      " Precision pre-processed: \n",
      "76.98735832205435\n"
     ]
    }
   ],
   "source": [
    "\n",
    "TP,FN,FP=outputmetrics(rnn_predictions,ytest1)    \n",
    "# print('\\n F-measure pre-processed: ')\n",
    "# print(F)\n",
    "# print('\\n Accuracy pre-processed: ')\n",
    "# print(Accuracy)\n",
    "# print('\\n Sensitivity pre-processed: ')\n",
    "# print(Sensitivity)\n",
    "# print('\\n Precision pre-processed: ')\n",
    "# print(Precision)\n",
    "\n",
    "\n",
    "#F measure is Harmonic Mean of Precision and Sensitivity. Since our Data in Highly Imbalanced towards TN,\n",
    "#F measure is a better alternative to accuracy\"\"\".\n"
   ]
  },
  {
   "cell_type": "code",
   "execution_count": 10,
   "id": "ulYUbcBdsBAR",
   "metadata": {
    "executionInfo": {
     "elapsed": 482,
     "status": "ok",
     "timestamp": 1626521070996,
     "user": {
      "displayName": "Himanshu Jindal",
      "photoUrl": "https://lh3.googleusercontent.com/a-/AOh14GhhBCxUGUuKYYAeqNbtxPh0G6KB6fRDrcYD8hC6_w=s64",
      "userId": "03592805793361767878"
     },
     "user_tz": -330
    },
    "id": "ulYUbcBdsBAR"
   },
   "outputs": [],
   "source": [
    "import matplotlib.pyplot as plt\n"
   ]
  },
  {
   "cell_type": "code",
   "execution_count": null,
   "id": "pTbM5uLIr512",
   "metadata": {
    "colab": {
     "base_uri": "https://localhost:8080/",
     "height": 518
    },
    "executionInfo": {
     "elapsed": 4044,
     "status": "ok",
     "timestamp": 1626426077931,
     "user": {
      "displayName": "Himanshu Jindal",
      "photoUrl": "https://lh3.googleusercontent.com/a-/AOh14GhhBCxUGUuKYYAeqNbtxPh0G6KB6fRDrcYD8hC6_w=s64",
      "userId": "03592805793361767878"
     },
     "user_tz": -330
    },
    "id": "pTbM5uLIr512",
    "outputId": "9ac4a793-680f-446e-f9f9-eecde0a92405"
   },
   "outputs": [
    {
     "data": {
      "image/png": "[encoded data removed]",
      "text/plain": [
       "<Figure size 432x288 with 1 Axes>"
      ]
     },
     "metadata": {
      "needs_background": "light",
      "tags": []
     },
     "output_type": "display_data"
    },
    {
     "data": {
      "image/png": "[encoded data removed]",
      "text/plain": [
       "<Figure size 432x288 with 1 Axes>"
      ]
     },
     "metadata": {
      "needs_background": "light",
      "tags": []
     },
     "output_type": "display_data"
    }
   ],
   "source": [
    "# PLOTTING TO SEE THE VISIBLE DIFFERENCES. \n",
    "#PLOTTING BEFORE CLEANING\n",
    "\n",
    "plt.figure()\n",
    "plt.plot()\n",
    "plt.imshow(rnn_predictions.transpose(),cmap='Greys',aspect='auto',interpolation='nearest')\n",
    "plt.show()\n",
    "plt.figure()\n",
    "plt.plot()\n",
    "plt.imshow(ytest1.transpose(),cmap='Greys',aspect='auto',interpolation='nearest')\n",
    "plt.show()"
   ]
  },
  {
   "cell_type": "code",
   "execution_count": 12,
   "id": "AnafQ2BqjLZv",
   "metadata": {
    "executionInfo": {
     "elapsed": 424,
     "status": "ok",
     "timestamp": 1626521101038,
     "user": {
      "displayName": "Himanshu Jindal",
      "photoUrl": "https://lh3.googleusercontent.com/a-/AOh14GhhBCxUGUuKYYAeqNbtxPh0G6KB6fRDrcYD8hC6_w=s64",
      "userId": "03592805793361767878"
     },
     "user_tz": -330
    },
    "id": "AnafQ2BqjLZv"
   },
   "outputs": [],
   "source": [
    "rnn_predictions1=rnn_predictions"
   ]
  },
  {
   "cell_type": "code",
   "execution_count": 54,
   "id": "PRv0dKPojIkD",
   "metadata": {
    "executionInfo": {
     "elapsed": 478,
     "status": "ok",
     "timestamp": 1626526755541,
     "user": {
      "displayName": "Himanshu Jindal",
      "photoUrl": "https://lh3.googleusercontent.com/a-/AOh14GhhBCxUGUuKYYAeqNbtxPh0G6KB6fRDrcYD8hC6_w=s64",
      "userId": "03592805793361767878"
     },
     "user_tz": -330
    },
    "id": "PRv0dKPojIkD"
   },
   "outputs": [],
   "source": [
    "rnn_predictions2=rnn_predictions"
   ]
  },
  {
   "cell_type": "code",
   "execution_count": 36,
   "id": "cb65be81",
   "metadata": {
    "executionInfo": {
     "elapsed": 579279,
     "status": "ok",
     "timestamp": 1626525076519,
     "user": {
      "displayName": "Himanshu Jindal",
      "photoUrl": "https://lh3.googleusercontent.com/a-/AOh14GhhBCxUGUuKYYAeqNbtxPh0G6KB6fRDrcYD8hC6_w=s64",
      "userId": "03592805793361767878"
     },
     "user_tz": -330
    },
    "id": "cb65be81"
   },
   "outputs": [],
   "source": [
    "#NOW WE CLEAN THE MODEL. THIS STEP IS NOT NECESSARY AND TAKES A LOT OF TIME SINCE THERE WILL BE A LOT OF ITERATIONS.\n",
    "#SINCE OUR TIME FRAME IS SMALL WE CONSIDER LIMITS OF HUMAN CAPABILITY IN MODIFYING SOME OUTPUTS.\n",
    "\n",
    "for a in range(rnn_predictions.shape[1]):\n",
    "    for j in range(2,rnn_predictions.shape[0]-3):\n",
    "        if rnn_predictions[j-1,a] == 1 and rnn_predictions[j,a] == 0 and rnn_predictions[j+1,a] == 0 and rnn_predictions[j+2,a] == 1:\n",
    "            rnn_predictions[j,a] = 1\n",
    "            rnn_predictions[j+1,a] = 1\n",
    "        if rnn_predictions[j-2,a] == 0 and rnn_predictions[j-1,a] == 0 and rnn_predictions[j,a] == 1 and rnn_predictions[j+1,a] == 1 and rnn_predictions[j+2,a] == 0 and rnn_predictions[j+3,a] == 0:\n",
    "            rnn_predictions[j,a] = 0\n",
    "            rnn_predictions[j+1,a] = 0\n",
    "        if rnn_predictions[j-1,a] == 0 and rnn_predictions[j,a] == 1 and rnn_predictions[j+1,a] == 0 and rnn_predictions[j+2,a] == 0:\n",
    "            rnn_predictions[j,a] = 0\n",
    "        if rnn_predictions[j-1,a] == 1 and rnn_predictions[j,a] == 0 and rnn_predictions[j+1,a] == 1 and rnn_predictions[j+2,a] == 1:\n",
    "            rnn_predictions[j,a] = 1"
   ]
  },
  {
   "cell_type": "code",
   "execution_count": 61,
   "id": "c02f8583",
   "metadata": {
    "colab": {
     "base_uri": "https://localhost:8080/"
    },
    "executionInfo": {
     "elapsed": 448,
     "status": "ok",
     "timestamp": 1626527542037,
     "user": {
      "displayName": "Himanshu Jindal",
      "photoUrl": "https://lh3.googleusercontent.com/a-/AOh14GhhBCxUGUuKYYAeqNbtxPh0G6KB6fRDrcYD8hC6_w=s64",
      "userId": "03592805793361767878"
     },
     "user_tz": -330
    },
    "id": "c02f8583",
    "outputId": "b8842be9-24b4-4f52-cabf-50df4be08459"
   },
   "outputs": [
    {
     "name": "stdout",
     "output_type": "stream",
     "text": [
      "\n",
      " F-measure pre-processed: \n",
      "67.78376423596525\n",
      "\n",
      " Accuracy pre-processed: \n",
      "51.26735294214425\n",
      "\n",
      " Sensitivity pre-processed: \n",
      "59.94529953003958\n",
      "\n",
      " Precision pre-processed: \n",
      "77.98051952520643\n"
     ]
    },
    {
     "data": {
      "text/plain": [
       "(1246457, 832867, 351964)"
      ]
     },
     "execution_count": 61,
     "metadata": {
      "tags": []
     },
     "output_type": "execute_result"
    }
   ],
   "source": [
    "outputmetrics(rnn_predictions,ytest1)    \n",
    "## print('\\n F-measure pre-processed: ')\n",
    "## print(F)\n",
    "## print('\\n Accuracy pre-processed: ')\n",
    "## print(Accuracy)\n",
    "\n",
    "# '''F measure is Harmonic Mean of Precision and Sensitivity. Since our Data in Highly Imbalanced towards TN,\n",
    "#    F measure is a better alternative to accuracy'''.\n",
    "# '''IN THIS THE F MEASURE VALUE AND ACCURACY WILL INCREASE BY NEGLIGIBLE AMOUNTS BUT THIS WILL LEAD TO NOTICEABLE CHANGES\n",
    "#    IN PIANO ROLL REPRESENTATION'''"
   ]
  },
  {
   "cell_type": "code",
   "execution_count": 13,
   "id": "5c25f860",
   "metadata": {
    "colab": {
     "base_uri": "https://localhost:8080/",
     "height": 1000
    },
    "executionInfo": {
     "elapsed": 7076,
     "status": "ok",
     "timestamp": 1626526281234,
     "user": {
      "displayName": "Himanshu Jindal",
      "photoUrl": "https://lh3.googleusercontent.com/a-/AOh14GhhBCxUGUuKYYAeqNbtxPh0G6KB6fRDrcYD8hC6_w=s64",
      "userId": "03592805793361767878"
     },
     "user_tz": -330
    },
    "id": "5c25f860",
    "outputId": "d30c8fbc-a035-4afd-fa59-b3a7d187fe43"
   },
   "outputs": [
    {
     "data": {
      "image/png": "[encoded data removed]",
      "text/plain": [
       "<Figure size 1728x360 with 1 Axes>"
      ]
     },
     "metadata": {
      "needs_background": "light"
     },
     "output_type": "display_data"
    },
    {
     "data": {
      "image/png": "[encoded data removed]",
      "text/plain": [
       "<Figure size 1728x360 with 1 Axes>"
      ]
     },
     "metadata": {
      "needs_background": "light"
     },
     "output_type": "display_data"
    },
    {
     "data": {
      "image/png": "[encoded data removed]",
      "text/plain": [
       "<Figure size 1728x360 with 1 Axes>"
      ]
     },
     "metadata": {
      "needs_background": "light"
     },
     "output_type": "display_data"
    }
   ],
   "source": [
    "# PLOTTING TO SEE THE VISIBLE DIFFERENCES. \n",
    "\n",
    "plt.figure(figsize=[24,5])\n",
    "plt.imshow(rnn_predictions1.transpose(),cmap='Blues',aspect='auto',interpolation='nearest')\n",
    "plt.xlabel(\"Time Frame\")\n",
    "plt.ylabel(\"Piano Note\")\n",
    "plt.title(\"PREDICTION BEFORE CLEANING\")\n",
    "#plt.xlim([260000,260100])\n",
    "plt.show()\n",
    "plt.figure(figsize=[24,5])\n",
    "plt.imshow(rnn_predictions.transpose(),cmap='Reds',aspect='auto',interpolation='nearest')\n",
    "plt.xlabel(\"Time Frame\")\n",
    "plt.ylabel(\"Piano Note\")\n",
    "plt.title(\"PREDICTION AFTER CLEANING\")\n",
    "#plt.xlim([260000,260100])\n",
    "plt.show()\n",
    "plt.figure(figsize=[24,5])\n",
    "plt.imshow(ytest1.transpose(),cmap='Greys',aspect='auto',interpolation='nearest')\n",
    "plt.xlabel(\"Time Frame\")\n",
    "plt.ylabel(\"Piano Note\")\n",
    "plt.title(\"Ground Truth\")\n",
    "#plt.xlim([260000,260100])\n",
    "plt.show()"
   ]
  },
  {
   "cell_type": "code",
   "execution_count": null,
   "id": "KWNbaopDnLVH",
   "metadata": {
    "id": "KWNbaopDnLVH"
   },
   "outputs": [],
   "source": [
    "rnn.save(\"/content/gdrive/My Drive/my_rnnmodel.h5\")"
   ]
  },
  {
   "cell_type": "code",
   "execution_count": null,
   "id": "FYmn6lIyoLiZ",
   "metadata": {
    "id": "FYmn6lIyoLiZ"
   },
   "outputs": [],
   "source": [
    "rnn.save_weights(\"/content/gdrive/My Drive/my_rnnweights.h5\",)"
   ]
  },
  {
   "cell_type": "code",
   "execution_count": null,
   "id": "XU4MArBJos6m",
   "metadata": {
    "id": "XU4MArBJos6m"
   },
   "outputs": [],
   "source": [
    "np.save(\"/content/gdrive/My Drive/rnn_predictions.npy\",rnn_predictions)"
   ]
  },
  {
   "cell_type": "code",
   "execution_count": 3,
   "id": "u8WgU8R1pFVs",
   "metadata": {
    "executionInfo": {
     "elapsed": 1601,
     "status": "ok",
     "timestamp": 1626523146984,
     "user": {
      "displayName": "Himanshu Jindal",
      "photoUrl": "https://lh3.googleusercontent.com/a-/AOh14GhhBCxUGUuKYYAeqNbtxPh0G6KB6fRDrcYD8hC6_w=s64",
      "userId": "03592805793361767878"
     },
     "user_tz": -330
    },
    "id": "u8WgU8R1pFVs"
   },
   "outputs": [],
   "source": [
    "rnn=load_model(\"my_rnnmodel.h5\")"
   ]
  }
 ],
 "metadata": {
  "accelerator": "GPU",
  "colab": {
   "collapsed_sections": [],
   "name": "RNN_LSTM_MUSIC01.ipynb",
   "provenance": [
    {
     "file_id": "1c4wTDNYcfhuvzVFHbzfE3WnBGkFy5ivm",
     "timestamp": 1626428595250
    },
    {
     "file_id": "1PXHsVBWg6CyyJ959cla-LerXUN0Oxrzz",
     "timestamp": 1626362239442
    }
   ]
  },
  "kernelspec": {
   "display_name": "Python 3",
   "language": "python",
   "name": "python3"
  },
  "language_info": {
   "codemirror_mode": {
    "name": "ipython",
    "version": 3
   },
   "file_extension": ".py",
   "mimetype": "text/x-python",
   "name": "python",
   "nbconvert_exporter": "python",
   "pygments_lexer": "ipython3",
   "version": "3.8.5"
  }
 },
 "nbformat": 4,
 "nbformat_minor": 5
}
