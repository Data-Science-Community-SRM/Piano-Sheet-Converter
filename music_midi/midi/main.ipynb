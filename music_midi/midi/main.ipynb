{
 "cells": [
  {
   "cell_type": "code",
   "execution_count": 10,
   "metadata": {},
   "outputs": [
    {
     "name": "stdout",
     "output_type": "stream",
     "text": [
      "Collecting musescore\n",
      "  Downloading musescore-0.0.1-py3-none-any.whl (4.0 kB)\n",
      "Installing collected packages: musescore\n",
      "Successfully installed musescore-0.0.1\n"
     ]
    }
   ],
   "source": [
    "!pip install musescore"
   ]
  },
  {
   "cell_type": "code",
   "execution_count": 11,
   "metadata": {},
   "outputs": [],
   "source": [
    "from music21 import *\n",
    "import partitura as pt\n",
    "\n",
    "# Load MIDI file\n",
    "midi_path = \"furelise.mid\"\n",
    "midi_stream = converter.parse(midi_path)\n",
    "\n",
    "# Create MusicXML file\n",
    "xml_path = \"example.xml\"\n",
    "midi_stream.write('musicxml', xml_path)\n",
    "\n",
    "my_xml_file = pt.EXAMPLE_MUSICXML\n",
    "score = pt.load_score(my_xml_file)\n",
    "\n",
    "# print(score.parts)\n",
    "pt.render(score.parts[0])"
   ]
  }
 ],
 "metadata": {
  "kernelspec": {
   "display_name": "Python 3",
   "language": "python",
   "name": "python3"
  },
  "language_info": {
   "codemirror_mode": {
    "name": "ipython",
    "version": 3
   },
   "file_extension": ".py",
   "mimetype": "text/x-python",
   "name": "python",
   "nbconvert_exporter": "python",
   "pygments_lexer": "ipython3",
   "version": "3.11.2"
  },
  "orig_nbformat": 4
 },
 "nbformat": 4,
 "nbformat_minor": 2
}
