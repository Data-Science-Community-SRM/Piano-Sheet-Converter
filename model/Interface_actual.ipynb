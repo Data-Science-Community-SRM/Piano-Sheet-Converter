{
  "cells": [
    {
      "attachments": {},
      "cell_type": "markdown",
      "id": "d9f2b2fc-f332-42c1-8731-04070e38f93b",
      "metadata": {
        "id": "d9f2b2fc-f332-42c1-8731-04070e38f93b"
      },
      "source": [
        "# **Music Transcription**"
      ]
    },
    {
      "attachments": {},
      "cell_type": "markdown",
      "id": "c9b9cd74-82ab-477c-b71e-70fffd4543d9",
      "metadata": {
        "id": "c9b9cd74-82ab-477c-b71e-70fffd4543d9"
      },
      "source": [
        "##### This notebook runs the model on user-provided audio"
      ]
    },
    {
      "cell_type": "markdown",
      "id": "a1f4f5fa-e1f2-41b0-9fbd-7674286ed4cd",
      "metadata": {
        "id": "a1f4f5fa-e1f2-41b0-9fbd-7674286ed4cd"
      },
      "source": [
        "###### This colab notebook is self-contained and should run natively on google cloud. The code and checkpoints can be downloaded separately and run locally, which is recommended if you want to train your own model."
      ]
    },
    {
      "attachments": {},
      "cell_type": "markdown",
      "id": "31531459-c76f-44c0-bcdb-bf6466f77674",
      "metadata": {
        "id": "31531459-c76f-44c0-bcdb-bf6466f77674"
      },
      "source": [
        "## **Setting Up the Environment**"
      ]
    },
    {
      "cell_type": "code",
      "execution_count": null,
      "id": "3faee22d-f540-49e5-a3b7-ac8c09c53fd4",
      "metadata": {
        "colab": {
          "base_uri": "https://localhost:8080/"
        },
        "id": "3faee22d-f540-49e5-a3b7-ac8c09c53fd4",
        "outputId": "413f9d82-7404-4191-8a00-6c29aeb23f7a"
      },
      "outputs": [],
      "source": [
        "#some hidden code to install and import all the packages required to run the model\n",
        "# @title Setting Up Environment\n",
        "import tensorflow as tf\n",
        "import numpy as np\n",
        "!pip install midiutil\n",
        "import matplotlib.pyplot as plt\n",
        "import io\n",
        "from google.colab import files\n",
        "import librosa\n",
        "!pip install mido\n",
        "import mido\n",
        "from midiutil.MidiFile import MIDIFile\n",
        "import pandas as pd\n",
        "import string\n",
        "import os\n",
        "import sys\n",
        "import librosa.display\n",
        "from matplotlib import pyplot as plt\n",
        "import numpy as np\n",
        "!pip install mido\n",
        "import mido\n",
        "\n",
        "from midiutil.MidiFile import MIDIFile\n",
        "!pip install pretty_midi\n",
        "import pretty_midi\n",
        "import matplotlib\n",
        "import matplotlib.pyplot as plt\n",
        "from matplotlib.patches import Rectangle\n",
        "import pandas as pd\n",
        "!pip install libfmp\n",
        "import string\n",
        "from matplotlib import patches\n",
        "from matplotlib import colors\n",
        "import IPython.display as ipd\n",
        "sys.path.append('..')\n",
        "import libfmp.c1\n",
        "# all additional codes\n",
        "# @title All additional codes\n",
        "pretty_midi.pretty_midi.MAX_TICK = 1e1000\n",
        "# code to plot an midi\n",
        "def plot_piano_roll(pm, start_pitch, end_pitch, sr=16000,Color = 'virdis'):\n",
        "    plt.figure(figsize=(26, 7))\n",
        "    librosa.display.specshow(pm.get_piano_roll(sr)[start_pitch:end_pitch],\n",
        "                             hop_length=1, sr=sr, x_axis='time', y_axis='cqt_note',\n",
        "                             fmin=pretty_midi.note_number_to_hz(start_pitch),\n",
        "                             fmax=pretty_midi.note_number_to_hz(end_pitch),\n",
        "                             cmap = Color)\n",
        "    \n",
        "\n",
        "\n",
        "# code to conver array to mid\n",
        "def lol(arr2):\n",
        "  [x,y]=arr2.shape\n",
        "  arr3 = np.zeros((y,x,2), dtype=int)\n",
        "    #Array to store the start and end times of each note played in key \n",
        "  start=1\n",
        "  k=0 \n",
        "  for j in range(arr2.shape[1]):\n",
        "     for i in range(arr2.shape[0]):\n",
        "          if arr2[i,j]==1 and start==1:\n",
        "              arr3[j,k,0]=i\n",
        "              start=0\n",
        "          elif arr2[i,j]==0 and start==0:\n",
        "              arr3[j,k,1]=i\n",
        "              start=1\n",
        "              k+=1\n",
        "     k=0\n",
        "\n",
        "  #Array to store the end times of each key \n",
        "  arr4=np.zeros((88), dtype=int)\n",
        "  for i in range(arr3.shape[0]):\n",
        "    for j in range(arr3.shape[1]):\n",
        "      if arr3[i,j,0]==0:\n",
        "        arr4[i]=j\n",
        "        break\n",
        "  return[arr3,arr4]\n",
        "\n",
        "def arr_to_midi(source_array,duration_array,filename_):\n",
        "  mf = MIDIFile(1,deinterleave=False)\n",
        "  track = 0   \n",
        "  time = 0\n",
        "  channel = 0\n",
        "  volume = 30\n",
        "  delta = 0.03125\n",
        "  mf.addTrackName(track, time, filename_)\n",
        "  mf.addTempo(track, time, 60)\n",
        "\n",
        "  for i in range(source_array.shape[0]):\n",
        "    for j in range(duration_array[i]):\n",
        "              pitch = i + 21\n",
        "              time = delta*source_array[i,j,0]\n",
        "              duration = delta*( source_array[i,j,1] - source_array[i,j,0] ) \n",
        "              mf.addNote(track, channel, pitch, time, duration, volume)\n",
        "  with open(filename_+\".mid\", 'wb') as outf:\n",
        "    mf.writeFile(outf)\n",
        "  return mf\n",
        "\n",
        "#NOW WE CLEAN THE MODEL. THIS STEP IS NOT NECESSARY AND TAKES A LOT OF TIME SINCE THERE WILL BE A LOT OF ITERATIONS.\n",
        "#SINCE OUR TIME FRAME IS SMALL WE CONSIDER LIMITS OF HUMAN CAPABILITY IN MODIFYING SOME OUTPUTS.\n",
        "def clean_midi(prediction_bool):\n",
        "  for a in range(prediction_bool.shape[1]):\n",
        "      for j in range(2,prediction_bool.shape[0]-3):\n",
        "          if  prediction_bool[j-1,a] == 1 and prediction_bool[j,a] == 0 and prediction_bool[j+1,a] == 0 and prediction_bool[j+2,a] == 1:\n",
        "              prediction_bool[j,a] = 1\n",
        "              prediction_bool[j+1,a] = 1\n",
        "          if prediction_bool[j-2,a] == 0 and prediction_bool[j-1,a] == 0 and prediction_bool[j,a] == 1 and prediction_bool[j+1,a] == 1 and prediction_bool[j+2,a] == 0 and prediction_bool[j+3,a] == 0:\n",
        "              prediction_bool[j,a] = 0\n",
        "              prediction_bool[j+1,a] = 0\n",
        "          if prediction_bool[j-1,a] == 0 and prediction_bool[j,a] == 1 and prediction_bool[j+1,a] == 0 and prediction_bool[j+2,a] == 0:\n",
        "              prediction_bool[j,a] = 0\n",
        "          if prediction_bool[j-1,a] == 1 and prediction_bool[j,a] == 0 and prediction_bool[j+1,a] == 1 and prediction_bool[j+2,a] == 1:\n",
        "              prediction_bool[j,a] = 1\n",
        "  return prediction_bool"
      ]
    },
    {
      "cell_type": "code",
      "execution_count": null,
      "id": "Um2uSYjYtLId",
      "metadata": {
        "cellView": "form",
        "colab": {
          "base_uri": "https://localhost:8080/"
        },
        "id": "Um2uSYjYtLId",
        "outputId": "03923cb9-aac6-4ddf-95d0-f8156000a9d0"
      },
      "outputs": [],
      "source": [
        "# @title Mounting google drive\n",
        "from google.colab import drive\n",
        "drive.mount('/content/drive')\n"
      ]
    },
    {
      "attachments": {},
      "cell_type": "markdown",
      "id": "f94a789f-2ef1-46a1-9225-c07d3d3e646d",
      "metadata": {
        "id": "f94a789f-2ef1-46a1-9225-c07d3d3e646d"
      },
      "source": [
        "## **Loading The Model**"
      ]
    },
    {
      "cell_type": "code",
      "execution_count": null,
      "id": "2ee1ffec-5b8f-4b43-b668-f730e79890f2",
      "metadata": {
        "cellView": "form",
        "id": "2ee1ffec-5b8f-4b43-b668-f730e79890f2"
      },
      "outputs": [],
      "source": [
        "#code to load model\n",
        "# @title Initialising Model\n",
        "MODEL = tf.keras.models.load_model(\"/content/drive/MyDrive/Saved_Model.h5\")"
      ]
    },
    {
      "attachments": {},
      "cell_type": "markdown",
      "id": "e7afba41-fe3b-4e8e-b9fb-44f2ff04b243",
      "metadata": {
        "id": "e7afba41-fe3b-4e8e-b9fb-44f2ff04b243"
      },
      "source": [
        "## **Upload The Audio**"
      ]
    },
    {
      "attachments": {},
      "cell_type": "markdown",
      "id": "0e5002bd-828c-4b4b-a22b-8c88fe3212c6",
      "metadata": {
        "id": "0e5002bd-828c-4b4b-a22b-8c88fe3212c6"
      },
      "source": [
        "###### The audio will be trimmed to a length of 60 sec to demonstrate that our model is working properly."
      ]
    },
    {
      "cell_type": "markdown",
      "id": "9M4xxMsGGTIY",
      "metadata": {
        "id": "9M4xxMsGGTIY"
      },
      "source": [
        "Audio upload saves the boolean array with the name Output.npy\n",
        "and array name is prediction_bool"
      ]
    },
    {
      "cell_type": "code",
      "execution_count": null,
      "id": "cb774e1c",
      "metadata": {
        "cellView": "form",
        "colab": {
          "base_uri": "https://localhost:8080/",
          "height": 91,
          "resources": {
            "http://localhost:8080/nbextensions/google.colab/files.js": {
              "data": "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",
              "headers": [
                [
                  "content-type",
                  "application/javascript"
                ]
              ],
              "ok": true,
              "status": 200,
              "status_text": ""
            }
          }
        },
        "id": "cb774e1c",
        "outputId": "7cbc985b-75dc-4b1b-d558-7ecbd46eb034"
      },
      "outputs": [],
      "source": [
        "# code to upload an audio\n",
        "# @title Audio Upload\n",
        "uploaded = files.upload()\n",
        "\n",
        "to_process = []\n",
        "for fn in uploaded.keys():\n",
        "  print('User uploaded file \"{name}\" with length {length} bytes'.format(\n",
        "      name=fn, length=len(uploaded[fn])))\n",
        "  wav_data = uploaded[fn]\n",
        "\n",
        "# code to preprocess the audio for using in model                  ##completed\n",
        "sr = 16000\n",
        "bins_per_octave=36\n",
        "n_octave=7\n",
        "n_bins=n_octave*bins_per_octave\n",
        "\n",
        "x, t = librosa.load(\"{}\".format(fn),sr=sr)\n",
        "x = x[:sr*120]\n",
        "CQT_spectrum = librosa.core.cqt(x, sr=sr,fmin=(librosa.note_to_hz('A0')), n_bins=n_bins, bins_per_octave=bins_per_octave,scale=False)\n",
        "CQT = np.transpose(np.abs(CQT_spectrum))\n",
        "\n",
        "max_shape = (CQT.shape[0]//100)*100\n",
        "CQT = CQT[:max_shape,:]\n",
        "CQT = CQT.reshape(CQT.shape[0]//100, 100, 252)\n",
        "\n",
        "# code to input audio into model                   \n",
        "prediction = MODEL.predict(x = CQT)\n",
        "prediction = prediction.reshape(prediction.shape[0]*100,88)\n",
        "prediction_bool = prediction>=0.5\n",
        "np.save(fn[:-4]+\".npy\",prediction_bool)\n"
      ]
    },
    {
      "attachments": {},
      "cell_type": "markdown",
      "id": "dd5a336a-a147-41d9-ab42-5db6277e9afc",
      "metadata": {
        "id": "dd5a336a-a147-41d9-ab42-5db6277e9afc"
      },
      "source": [
        "## **Result:**"
      ]
    },
    {
      "cell_type": "markdown",
      "id": "748ff96e-12a2-468f-9151-d935d7d705ee",
      "metadata": {
        "id": "748ff96e-12a2-468f-9151-d935d7d705ee"
      },
      "source": [
        "#### **Original Audio**"
      ]
    },
    {
      "cell_type": "code",
      "execution_count": null,
      "id": "c30f4ceb-6557-4c64-9f3d-bafdd6a96778",
      "metadata": {
        "cellView": "form",
        "colab": {
          "base_uri": "https://localhost:8080/",
          "height": 75
        },
        "id": "c30f4ceb-6557-4c64-9f3d-bafdd6a96778",
        "outputId": "c875ead5-04e4-4718-97b2-923562334165"
      },
      "outputs": [],
      "source": [
        "# Play original audio of 60 sec       #completed\n",
        "# @title Original Audio\n",
        "ipd.display(ipd.Audio(data= x, rate=sr))"
      ]
    },
    {
      "attachments": {},
      "cell_type": "markdown",
      "id": "b2983db6-8cc4-4550-949c-93b2eab6abe4",
      "metadata": {
        "id": "b2983db6-8cc4-4550-949c-93b2eab6abe4"
      },
      "source": [
        "#### **without post-processing**"
      ]
    },
    {
      "cell_type": "code",
      "execution_count": null,
      "id": "18ad61ac-fa83-470a-9fc5-071efb22e128",
      "metadata": {
        "colab": {
          "base_uri": "https://localhost:8080/",
          "height": 443
        },
        "id": "18ad61ac-fa83-470a-9fc5-071efb22e128",
        "outputId": "0cd9c888-e994-451c-ea79-07606ff4eec5"
      },
      "outputs": [],
      "source": [
        "# predicted mid plot\n",
        "# @title Predicted piano-roll representation\n",
        "rnn_predictions = np.load(\"{}.npy\".format(fn[:-4]))\n",
        "\n",
        "arr5,arr6=lol(rnn_predictions)\n",
        "\n",
        "mf=arr_to_midi(arr5,arr6,fn[:-4])\n",
        "\n",
        "midi_data = pretty_midi.PrettyMIDI(\"{}.mid\".format(fn[:-4]))\n",
        "\n",
        "plot_piano_roll(midi_data,21,109,10,\"PuBu_r\")"
      ]
    },
    {
      "attachments": {},
      "cell_type": "markdown",
      "id": "f593c560-aa96-4d82-9b2e-7e79fb154b5b",
      "metadata": {
        "id": "f593c560-aa96-4d82-9b2e-7e79fb154b5b"
      },
      "source": [
        "##### **after post-processing**"
      ]
    },
    {
      "cell_type": "code",
      "execution_count": null,
      "id": "a7f35d85-e2ca-4c79-91bb-1f4f32050fcb",
      "metadata": {
        "colab": {
          "base_uri": "https://localhost:8080/",
          "height": 498
        },
        "id": "a7f35d85-e2ca-4c79-91bb-1f4f32050fcb",
        "outputId": "018b58ba-963f-4415-b5c7-94859bafa146"
      },
      "outputs": [],
      "source": [
        "# predicted mid plot\n",
        "# @title Predicted piano-roll representation\n",
        "# function to plot a midi\n",
        "rnn_predictions = np.load(\"{}.npy\".format(fn[:-4]))\n",
        "\n",
        "cleaned_midi_data = clean_midi(rnn_predictions)\n",
        "\n",
        "arr5,arr6=lol(cleaned_midi_data)\n",
        "\n",
        "mf=arr_to_midi(arr5,arr6,\"cleaned_\"+fn[:-4])\n",
        "\n",
        "clean_midi_data = pretty_midi.PrettyMIDI(\"cleaned_\"+\"{}.mid\".format(fn[:-4]))\n",
        "\n",
        "plot_piano_roll(clean_midi_data,21,109,10,\"PuBu_r\")"
      ]
    },
    {
      "cell_type": "code",
      "execution_count": null,
      "id": "bhyD1BshYcru",
      "metadata": {
        "id": "bhyD1BshYcru"
      },
      "outputs": [],
      "source": [
        "np.save(\"clean_midi.npy\",cleaned_midi_data)"
      ]
    }
  ],
  "metadata": {
    "accelerator": "GPU",
    "colab": {
      "collapsed_sections": [
        "31531459-c76f-44c0-bcdb-bf6466f77674"
      ],
      "name": "Interface-actual.ipynb",
      "provenance": []
    },
    "kernelspec": {
      "display_name": "Python 3",
      "language": "python",
      "name": "python3"
    },
    "language_info": {
      "codemirror_mode": {
        "name": "ipython",
        "version": 3
      },
      "file_extension": ".py",
      "mimetype": "text/x-python",
      "name": "python",
      "nbconvert_exporter": "python",
      "pygments_lexer": "ipython3",
      "version": "3.9.12"
    }
  },
  "nbformat": 4,
  "nbformat_minor": 5
}
